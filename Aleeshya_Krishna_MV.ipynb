{
  "nbformat": 4,
  "nbformat_minor": 0,
  "metadata": {
    "colab": {
      "name": "Aleeshya_Krishna_MV.ipynb",
      "provenance": []
    },
    "kernelspec": {
      "name": "python3",
      "display_name": "Python 3"
    },
    "language_info": {
      "name": "python"
    }
  },
  "cells": [
    {
      "cell_type": "code",
      "metadata": {
        "colab": {
          "base_uri": "https://localhost:8080/"
        },
        "id": "yQro7FceTm0Z",
        "outputId": "25505cd7-9a14-4593-f1c8-d1bead9edc5e"
      },
      "source": [
        "import numpy as np\n",
        "import pandas as pd\n",
        "import sklearn\n",
        "from sklearn.datasets import  load_boston\n",
        "df = load_boston()\n",
        "df.keys()\n",
        "boston = pd.DataFrame(df.data, columns=df.feature_names)\n",
        "boston.head()\n",
        "boston['MEDV']=df.target\n",
        "boston.head(100)\n",
        "boston.isnull()\n",
        "boston.isnull().sum()\n",
        "from sklearn.model_selection import  train_test_split\n",
        "X=boston.drop('MEDV', axis=1)\n",
        "Y=boston['MEDV']\n",
        "X_train, X_test,Y_train,Y_test = train_test_split(X,Y, test_size=0.15, random_state=5)\n",
        "from sklearn.linear_model import LinearRegression\n",
        "from sklearn.metrics import mean_squared_error\n",
        "X = boston.drop('MEDV', axis=1)\n",
        "X_train,X_test,Y_train,Y_test=train_test_split(X,Y,test_size=0.15,random_state=5)\n",
        "lin_model=LinearRegression()\n",
        "lin_model.fit(X_train,Y_train)\n",
        "Y_train_predict=lin_model.predict(X_train)\n",
        "rmse=(np.sqrt(mean_squared_error(Y_train,Y_train_predict)))\n",
        "print(\"The model performance for training set\")\n",
        "print('RMSE is {}'.format(rmse))\n",
        "print(\"\\n\")\n",
        "Y_test_predict=lin_model.predict(X_test)\n",
        "rmse=(np.sqrt(mean_squared_error(Y_test,Y_test_predict)))\n",
        "print(\"The model performance for testing set\")\n",
        "print('RMSE is {}'.format(rmse))\n",
        "\n",
        "\n",
        "\n"
      ],
      "execution_count": 26,
      "outputs": [
        {
          "output_type": "stream",
          "text": [
            "The model performance for training set\n",
            "RMSE is 4.710901797319795\n",
            "\n",
            "\n",
            "The model performance for testing set\n",
            "RMSE is 4.687543527902971\n"
          ],
          "name": "stdout"
        }
      ]
    }
  ]
}